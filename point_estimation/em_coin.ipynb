{
 "cells": [
  {
   "cell_type": "markdown",
   "metadata": {},
   "source": [
    "## Expectation maximization demo\n",
    "\n",
    "Check out paper @[link](https://www.nature.com/articles/nbt1406)\n",
    "\n",
    "Assume there are two coins:\n",
    "- Coin 1\n",
    "- Coin 2\n",
    "\n",
    "When tossed, probability of a head is:\n",
    "- $p_1$ for coin 1\n",
    "- $p_2$ for coin 2\n",
    "\n",
    "Procedure:\n",
    "1. First a coin is selected randomly.\n",
    "    - Probability of selecting coin 1 is $\\pi_1$\n",
    "    - Probability of selecting coin 2 is $\\pi_2$\n",
    "\n",
    "2. When a coin is selected, it is tossed 10 times and results are recorded.\n",
    "\n",
    "Steps 1 and 2 are repeated 5 times. Following data is observed:\n",
    "\n",
    "|  Set  | Observation |\n",
    "|-------|-------------|\n",
    "|1|[H, T, T, T, H, H, T, H, T, H] |\n",
    "|2|[H, H, H, H, T, H, H, H, H, H] |\n",
    "|3|[H, T, H, H, H, H, H, T, H, H] |\n",
    "|4|[H, T, H, T, T, T, H, H, T, T] |\n",
    "|5|[T, H, H, H, T, H, H, H, T, H] |\n",
    "\n",
    "Find values of $\\pi_1, \\pi_2, p_1, p_2$ using expectation maximization.\n",
    "\n",
    "\n",
    "\n"
   ]
  },
  {
   "cell_type": "code",
   "execution_count": 1,
   "metadata": {},
   "outputs": [],
   "source": [
    "import numpy as np\n",
    "import random\n",
    "\n",
    "H = 1\n",
    "T = 0\n",
    "\n",
    "# number of coins\n",
    "K= 2\n",
    "\n",
    "# number of sets\n",
    "N = 5\n",
    "\n",
    "# number of observation per set\n",
    "M = 10\n",
    "\n",
    "# observations\n",
    "observations = np.array([ [H, T, T, T, H, H, T, H, T, H], \\\n",
    "               [H, H, H, H, T, H, H, H, H, H], \\\n",
    "               [H, T, H, H, H, H, H, T, H, H], \\\n",
    "               [H, T, H, T, T, T, H, H, T, T], \\\n",
    "               [T, H, H, H, T, H, H, H, T, H] ])"
   ]
  },
  {
   "cell_type": "markdown",
   "metadata": {},
   "source": [
    "Initialize:\n",
    "1. Coin selection probilities as $\\pi_1= 0.5$ and $\\pi_2=0.5$.\n",
    "2. Coin probability of head as $p_1=0,1$ and $p_2=0.5$.\n"
   ]
  },
  {
   "cell_type": "code",
   "execution_count": 2,
   "metadata": {},
   "outputs": [],
   "source": [
    "# initial coin selection probabilities\n",
    "hat_pi = np.array([0.5, 0.5])\n",
    "\n",
    "# initial head probabilities\n",
    "hat_p = np.array([0.6, 0.5])"
   ]
  },
  {
   "cell_type": "markdown",
   "metadata": {},
   "source": [
    "Expection maximization algorithm has two steps in a single iteration:\n",
    "1. Expectation: Find the expected values of membership function that shows which coin is selected. \n",
    "    - $z_{1i}=1$ if coin 1 is selected for set i\n",
    "    - $z_{1i}=0$ if coin 1 is not selected for set i\n",
    "\n",
    "    In this step, we will compute expected values of $z_{1i}$ and $z_{2i}$ for $i=1..5$, and fill out the table below:\n",
    "\n",
    "| E($z_{ki}$)  | set1 | set 2 | set 3 | set 4 | set 5 | Total |\n",
    "|----------------|----:|:-----:|:-----:|:-----:|:-----:|:-----:|\n",
    "| E($z_{1i}$)    |      |       |       |       |       | $N_1$ |\n",
    "| E($z_{2i}$)      |      |       |       |       |       | $N_2$ |\n",
    "| Total                    | 1    | 1     | 1     | 1     | 1     | $N$   |\n",
    "\n",
    "  where \n",
    "$$\n",
    "E(z_{ki})=\\frac{\\pi_k f_{ki}}{\\sum_j \\pi_j f_{ji}}\n",
    "$$\n",
    "  and $f_{ki}$ is the joint probability of observation $i$ if coin $k$ is tossed.\n",
    "$$\n",
    "f_{ki} = p_k^{H_i} (1-p_k)^{T_i}\n",
    "$$\n",
    "   and $H_i, T_i$ are number of heads and number of tails in observation $i$ respectively.\n",
    "    \n"
   ]
  },
  {
   "cell_type": "code",
   "execution_count": 3,
   "metadata": {},
   "outputs": [],
   "source": [
    "def joint_prob(p, obs, k, i):\n",
    "    N, M = obs.shape\n",
    "    H_i = np.sum(obs[i,:])\n",
    "    T_i = M - H_i \n",
    "\n",
    "    return p[k]**H_i * (1-p[k])**T_i\n",
    "\n",
    "\n",
    "\n",
    "def e_step(pi, p, obs):\n",
    "\n",
    "    K = pi.shape[0]\n",
    "    N, M = obs.shape\n",
    "\n",
    "    # membership function\n",
    "    exp_z = np.zeros((K,N),dtype=float)\n",
    "\n",
    "    \n",
    "    for i in range(N):\n",
    "        j_prob = [hat_pi[t]*joint_prob(hat_p, obs, t, i) for t in range(K)]\n",
    "        exp_z[:, i] = j_prob/np.sum(j_prob)\n",
    "    \n",
    "    return exp_z\n",
    "\n",
    "# test \n",
    "exp_z = e_step(hat_pi, hat_p, observations)"
   ]
  },
  {
   "cell_type": "markdown",
   "metadata": {},
   "source": [
    "2. M-step: Maximize log likelihood using expected coin selection and head probabilities\n",
    "\n",
    "$$\n",
    "N_k = \\sum_i z_{ki}\n",
    "$$\n",
    "\n",
    "$$\n",
    "N_k(H) = \\frac{1}{M} \\sum_i z_{ki}H_i\n",
    "$$\n",
    "\n",
    "Update:\n",
    "$$\n",
    "\\pi_k = \\frac{N_k}{N}\n",
    "$$\n",
    "\n",
    "$$\n",
    "p_k = \\frac{N_k(H)}{N_k}\n",
    "$$"
   ]
  },
  {
   "cell_type": "code",
   "execution_count": 4,
   "metadata": {},
   "outputs": [],
   "source": [
    "def m_step(exp_z, obs):\n",
    "    K = exp_z.shape[0]\n",
    "    N, M = obs.shape\n",
    "\n",
    "    N_k = np.sum(exp_z, axis=1)\n",
    "    H_i = [np.sum(obs[i,:]) for i in range(N)]\n",
    "    N_k_H = np.sum( exp_z * H_i, axis=1)/M \n",
    "    \n",
    "    # update parameters\n",
    "    hat_pi = N_k/N \n",
    "    hat_p = N_k_H / N_k\n",
    "    \n",
    "    return hat_pi, hat_p\n",
    "    \n",
    "#test\n",
    "hat_pi, hat_p = m_step(exp_z, observations)"
   ]
  },
  {
   "cell_type": "markdown",
   "metadata": {},
   "source": [
    "Now, for a certain number of iterations call e-step and m-step successively."
   ]
  },
  {
   "cell_type": "code",
   "execution_count": 5,
   "metadata": {},
   "outputs": [
    {
     "name": "stdout",
     "output_type": "stream",
     "text": [
      "0 [0.59739457 0.40260543] [0.71301224 0.58133931]\n",
      "1 [0.59087598 0.40912402] [0.73274531 0.55493783]\n",
      "2 [0.582044 0.417956] [0.75223001 0.53156083]\n",
      "3 [0.57247097 0.42752903] [0.76742179 0.51615981]\n",
      "4 [0.56364558 0.43635442] [0.77711467 0.50872121]\n",
      "5 [0.5561608 0.4438392] [0.78267788 0.50627624]\n",
      "6 [0.55001328 0.44998672] [0.78584967 0.50617548]\n",
      "7 [0.54501059 0.45498941] [0.78776968 0.50695066]\n",
      "8 [0.54094464 0.45905536] [0.78903405 0.50794802]\n",
      "9 [0.53763641 0.46236359] [0.78993265 0.50891431]\n"
     ]
    }
   ],
   "source": [
    "hat_pi = np.array([0.5, 0.5])\n",
    "hat_p = np.array([0.6, 0.5])\n",
    "exp_z = np.zeros((K,N),dtype=float)\n",
    "\n",
    "n_iter = 10\n",
    "\n",
    "for iteration in range(n_iter):\n",
    "    exp_z = e_step(hat_pi, hat_p, observations)\n",
    "    hat_pi, hat_p = m_step(exp_z, observations)\n",
    "    print(iteration, hat_pi, hat_p)\n"
   ]
  },
  {
   "cell_type": "markdown",
   "metadata": {},
   "source": [
    "Log likelihood should increase with each iteration.\n",
    "\n",
    "$$\n",
    "\\log L(\\pi_1, \\pi_2, p_1, p_2) = \\Pi_i \\sum_k \\pi_k f_{ki}\n",
    "$$"
   ]
  },
  {
   "cell_type": "code",
   "execution_count": 7,
   "metadata": {},
   "outputs": [
    {
     "data": {
      "image/png": "[encoded data removed]",
      "text/plain": [
       "<Figure size 432x288 with 1 Axes>"
      ]
     },
     "metadata": {
      "needs_background": "light"
     },
     "output_type": "display_data"
    }
   ],
   "source": [
    "def log_likelihood(pi, p, obs):\n",
    "    K = pi.shape[0]\n",
    "    N, M = obs.shape\n",
    "    \n",
    "    likelihood = 1\n",
    "    for i in range(N):\n",
    "        likelihood *= np.sum([hat_pi[t]*joint_prob(hat_p, obs, t, i) \\\n",
    "             for t in range(K)])\n",
    "\n",
    "\n",
    "    return np.log(likelihood)\n",
    "\n",
    "\n",
    "hat_pi = np.array([0.5, 0.5])\n",
    "hat_p = np.array([0.6, 0.5])\n",
    "exp_z = np.zeros((K,N),dtype=float)\n",
    "\n",
    "n_iter = 50\n",
    "log_l = list()\n",
    "\n",
    "for iteration in range(n_iter):\n",
    "    exp_z = e_step(hat_pi, hat_p, observations)\n",
    "    hat_pi, hat_p = m_step(exp_z, observations)\n",
    "    log_l.append( log_likelihood(hat_pi, hat_p, observations) )\n",
    "    # print(iteration, log_l[iteration])\n",
    "\n",
    "import matplotlib.pyplot as plt\n",
    "\n",
    "plt.plot(log_l)\n",
    "plt.xlabel('iterations')\n",
    "plt.ylabel('log likelihood');\n"
   ]
  }
 ],
 "metadata": {
  "interpreter": {
   "hash": "518d2ba205814ce4dd070894f7d1d1f837c6d818bba15fd8ce75bb758c143c09"
  },
  "kernelspec": {
   "display_name": "Python 3",
   "language": "python",
   "name": "python3"
  },
  "language_info": {
   "codemirror_mode": {
    "name": "ipython",
    "version": 3
   },
   "file_extension": ".py",
   "mimetype": "text/x-python",
   "name": "python",
   "nbconvert_exporter": "python",
   "pygments_lexer": "ipython3",
   "version": "3.7.0"
  }
 },
 "nbformat": 4,
 "nbformat_minor": 2
}
