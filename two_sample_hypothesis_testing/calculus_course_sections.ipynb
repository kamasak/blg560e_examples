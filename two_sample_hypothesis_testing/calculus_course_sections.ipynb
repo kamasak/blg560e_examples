{
 "cells": [
  {
   "cell_type": "markdown",
   "metadata": {},
   "source": [
    "## Demo of two sample hypothesis test for population mean\n"
   ]
  },
  {
   "cell_type": "markdown",
   "metadata": {},
   "source": [
    "Assume a calculus lecture is offered in two sections: In-class and online to the students of the same department. Students are assigned to these sections randomly.\n",
    "\n",
    "Final scores are\n",
    "\n",
    "|    | In-class | Online |\n",
    "|----|----------|--------|\n",
    "| N  |  20      |    25  |\n",
    "| mean score |  62 |  67 |\n",
    "\n",
    "Variance is known to be $\\sigma^2=25$ for both sections."
   ]
  },
  {
   "cell_type": "markdown",
   "metadata": {},
   "source": [
    "(a) Test following hypothesis for significance level of $\\alpha=0.01$.\n",
    "\n",
    "$H_0$: $\\mu_{in-class}=\\mu_{online}$\n",
    "\n",
    "$H_1$: $\\mu_{in-class}\\neq\\mu_{online}$"
   ]
  },
  {
   "cell_type": "code",
   "execution_count": 7,
   "metadata": {},
   "outputs": [
    {
     "name": "stdout",
     "output_type": "stream",
     "text": [
      "Test statistics T=-3.33\n",
      "Critical value: 2.58\n",
      "H0 is rejected\n"
     ]
    }
   ],
   "source": [
    "import numpy as np \n",
    "from scipy.stats import norm\n",
    "\n",
    "N1 = 20\n",
    "N2 = 25\n",
    "x_bar1 = 62\n",
    "x_bar2 = 67\n",
    "sigma_sq = 25\n",
    "alpha = 0.01\n",
    "\n",
    "# Lets compute test statistics T\n",
    "T = (x_bar1 - x_bar2)/(np.sqrt(sigma_sq/N1+sigma_sq/N2)) \n",
    "print(f\"Test statistics T={T:.2f}\")\n",
    "\n",
    "# Lets find critical value\n",
    "c = norm.ppf(1-alpha/2)\n",
    "print(f\"Critical value: {c:.2f}\")\n",
    "\n",
    "if np.abs(T)>c:\n",
    "    rejected = True \n",
    "    print(\"H0 is rejected\")\n",
    "else:\n",
    "    rejected = False\n",
    "    print(\"H0 is retained.\")"
   ]
  },
  {
   "cell_type": "markdown",
   "metadata": {},
   "source": [
    "(b) Find the p-value."
   ]
  },
  {
   "cell_type": "code",
   "execution_count": 8,
   "metadata": {},
   "outputs": [
    {
     "name": "stdout",
     "output_type": "stream",
     "text": [
      "p-value is 0.0009\n"
     ]
    }
   ],
   "source": [
    "p = 2*(1-norm.cdf(np.abs(T)))\n",
    "\n",
    "print(f\"p-value is {p:.4f}\")\n",
    "\n",
    "if (p>alpha and rejected) or (p<alpha and not rejected):\n",
    "    raise Exception(\"p-value and rejection decision are inconsistent\")"
   ]
  }
 ],
 "metadata": {
  "interpreter": {
   "hash": "e26ee7632efa79d1cdcb4a1edd701c7fe80726a566825d0095c4a53508317fe8"
  },
  "kernelspec": {
   "display_name": "Python 3.10.4 64-bit (windows store)",
   "language": "python",
   "name": "python3"
  },
  "language_info": {
   "codemirror_mode": {
    "name": "ipython",
    "version": 3
   },
   "file_extension": ".py",
   "mimetype": "text/x-python",
   "name": "python",
   "nbconvert_exporter": "python",
   "pygments_lexer": "ipython3",
   "version": "3.10.4"
  },
  "orig_nbformat": 4
 },
 "nbformat": 4,
 "nbformat_minor": 2
}
