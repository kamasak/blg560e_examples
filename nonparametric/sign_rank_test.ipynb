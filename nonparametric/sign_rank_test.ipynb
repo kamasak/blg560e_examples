{
 "cells": [
  {
   "cell_type": "markdown",
   "metadata": {},
   "source": [
    "An experiment was initiated to study the effect of a newly developed gasoline detergent on mileage. Following data represents km per litre before and after the detergent was added for each of 8 cars.\n",
    "\n",
    "|  | Mileage with detergent| Mileage without detergent |\n",
    "|--|:----------:|:---------:|\n",
    "|Car 1| 23.5 | 24.2 |\n",
    "|Car 2| 29.6| 30.4 |\n",
    "|Car 3| 32.3|32.7| \n",
    "|Car 4| 17.6 | 19.8|\n",
    "|Car 5| 25.3 | 25.0|\n",
    "|Car 6| 25.4 | 24.9|\n",
    "|Car 7| 22.2| 20.6 |\n",
    "|Car 8| 20.7 | 20.7 |\n",
    "\n",
    "\n",
    "Find the **p-value** of the test of the hypothesis that mileage is not affected by the addition of  detergent using sign test and Wilcoxon signed rank test. Use Normal distribution approximation. Do not use any continuity correction."
   ]
  },
  {
   "cell_type": "code",
   "execution_count": 3,
   "metadata": {},
   "outputs": [
    {
     "name": "stdout",
     "output_type": "stream",
     "text": [
      "Binomial dist W: 1e+01 p-value: 0.5\n"
     ]
    },
    {
     "name": "stderr",
     "output_type": "stream",
     "text": [
      "c:\\Users\\kamasak\\AppData\\Local\\Programs\\Python\\Python37-32\\lib\\site-packages\\scipy\\stats\\morestats.py:3141: UserWarning: Exact p-value calculation does not work if there are ties. Switching to normal approximation.\n",
      "  warnings.warn(\"Exact p-value calculation does not work if there are \"\n",
      "c:\\Users\\kamasak\\AppData\\Local\\Programs\\Python\\Python37-32\\lib\\site-packages\\scipy\\stats\\morestats.py:3155: UserWarning: Sample size too small for normal approximation.\n",
      "  warnings.warn(\"Sample size too small for normal approximation.\")\n"
     ]
    }
   ],
   "source": [
    "from scipy.stats import wilcoxon\n",
    "import  numpy as np\n",
    "\n",
    "# with detergent\n",
    "wd = np.array([23.5, 29.6, 32.3, 17.6, 25.3, 25.4, 22.2, 20.7])\n",
    "\n",
    "# without detergent\n",
    "wod = np.array([24.2, 30.4, 32.7, 19.8, 25.0, 24.9, 20.6, 20.7])\n",
    "\n",
    "# need implementation\n",
    "\n",
    "W, p_val = wilcoxon(wd, wod, zero_method='wilcox', correction=False, alternative='two-sided', mode='auto' )\n",
    "print(f\"Binomial dist W: {W:.2} p-value: {p_val:.2}\")"
   ]
  }
 ],
 "metadata": {
  "kernelspec": {
   "display_name": "Python 3.7.0 32-bit",
   "language": "python",
   "name": "python3"
  },
  "language_info": {
   "codemirror_mode": {
    "name": "ipython",
    "version": 3
   },
   "file_extension": ".py",
   "mimetype": "text/x-python",
   "name": "python",
   "nbconvert_exporter": "python",
   "pygments_lexer": "ipython3",
   "version": "3.7.0"
  },
  "orig_nbformat": 4,
  "vscode": {
   "interpreter": {
    "hash": "162380fd54367c0bd1949d3febda21d0bf9a470df17547b5d6bf9eb0b1e9abb4"
   }
  }
 },
 "nbformat": 4,
 "nbformat_minor": 2
}
