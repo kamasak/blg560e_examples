{
 "cells": [
  {
   "cell_type": "markdown",
   "metadata": {},
   "source": [
    "An experiment was initiated to study the effect of a newly developed gasoline detergent on mileage. Following data represents km per litre before and after the detergent was added for each of 8 cars.\n",
    "\n",
    "|  | Mileage with detergent| Mileage without detergent |\n",
    "|--|:----------:|:---------:|\n",
    "|Car 1| 23.5 | 24.2 |\n",
    "|Car 2| 29.6| 30.4 |\n",
    "|Car 3| 32.3|32.7| \n",
    "|Car 4| 17.6 | 19.8|\n",
    "|Car 5| 25.3 | 25.0|\n",
    "|Car 6| 25.4 | 24.9|\n",
    "|Car 7| 22.2| 20.6 |\n",
    "|Car 8| 20.7 | 20.7 |\n",
    "\n",
    "\n",
    "Find the **p-value** of the test of the hypothesis that mileage is not affected by the addition of  detergent using sign test and Wilcoxon signed rank test. Use Normal distribution approximation. Do not use any continuity correction."
   ]
  },
  {
   "cell_type": "code",
   "execution_count": 1,
   "metadata": {},
   "outputs": [
    {
     "name": "stdout",
     "output_type": "stream",
     "text": [
      "positive: 3  negative: 4  N: 7\n"
     ]
    }
   ],
   "source": [
    "import  numpy as np\n",
    "\n",
    "# with detergent\n",
    "wd = np.array([23.5, 29.6, 32.3, 17.6, 25.3, 25.4, 22.2, 20.7])\n",
    "\n",
    "# without detergent\n",
    "wod = np.array([24.2, 30.4, 32.7, 19.8, 25.0, 24.9, 20.6, 20.7])\n",
    "\n",
    "pos = np.sum(wd>wod)\n",
    "neg = np.sum(wd<wod)\n",
    "\n",
    "N = pos + neg \n",
    "print(f\"positive: {pos}  negative: {neg}  N: {N}\")"
   ]
  },
  {
   "cell_type": "code",
   "execution_count": 2,
   "metadata": {},
   "outputs": [
    {
     "name": "stdout",
     "output_type": "stream",
     "text": [
      "Using binomial distr p-val: 1.0\n",
      "Using normal distr p-val: 0.71\n"
     ]
    }
   ],
   "source": [
    "from scipy.stats import binom, norm \n",
    "\n",
    "# do not approximate with normal \n",
    "prob = 0.5\n",
    "p_val = 2*binom.cdf(pos, N, prob)\n",
    "\n",
    "print(f\"Using binomial distr p-val: {p_val:.2}\")\n",
    "\n",
    "# using normal approximation and no correction\n",
    "loc = N*prob \n",
    "scale = np.sqrt(N*prob*(1-prob))\n",
    "p_val = 2*norm.cdf(3, loc=loc, scale=scale)\n",
    "\n",
    "print(f\"Using normal distr p-val: {p_val:.2}\")"
   ]
  }
 ],
 "metadata": {
  "kernelspec": {
   "display_name": "Python 3.7.0 32-bit",
   "language": "python",
   "name": "python3"
  },
  "language_info": {
   "codemirror_mode": {
    "name": "ipython",
    "version": 3
   },
   "file_extension": ".py",
   "mimetype": "text/x-python",
   "name": "python",
   "nbconvert_exporter": "python",
   "pygments_lexer": "ipython3",
   "version": "3.7.0"
  },
  "orig_nbformat": 4,
  "vscode": {
   "interpreter": {
    "hash": "162380fd54367c0bd1949d3febda21d0bf9a470df17547b5d6bf9eb0b1e9abb4"
   }
  }
 },
 "nbformat": 4,
 "nbformat_minor": 2
}
