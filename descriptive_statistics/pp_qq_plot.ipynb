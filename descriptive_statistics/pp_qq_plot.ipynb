{
 "cells": [
  {
   "cell_type": "markdown",
   "metadata": {},
   "source": [
    "## Demo for distribution visualization using PP plot and QQ plot\n",
    "\n",
    "Lets generate observations from exponential distribution with $\\lambda=5$ and check if these observations come from exponential distribution with $\\lambda=5$."
   ]
  },
  {
   "cell_type": "code",
   "execution_count": 63,
   "metadata": {},
   "outputs": [],
   "source": [
    "import pandas as pd\n",
    "import numpy as np\n",
    "import matplotlib.pyplot as plt\n",
    "from scipy.stats import expon\n",
    "import statsmodels.api as sm\n",
    "import pandas as pd\n",
    "\n",
    "lmbda  = 5\n",
    "N = 1000\n",
    "\n",
    "observations = expon.rvs(scale=1/lmbda, size = N)"
   ]
  },
  {
   "cell_type": "markdown",
   "metadata": {},
   "source": [
    "Lets sort these observations and find emprical cdf values.\n",
    "\n",
    "For this purpose:\n",
    "- sort observations\n",
    "- cdf is computed as $(i-0.5)/N$ (0.5 is subtracted as Yates correction when a continous distribution is used to approximate a discrete distribution - We will talk about this later in the course!)"
   ]
  },
  {
   "cell_type": "code",
   "execution_count": 64,
   "metadata": {},
   "outputs": [
    {
     "data": {
      "text/html": [
       "<div>\n",
       "<style scoped>\n",
       "    .dataframe tbody tr th:only-of-type {\n",
       "        vertical-align: middle;\n",
       "    }\n",
       "\n",
       "    .dataframe tbody tr th {\n",
       "        vertical-align: top;\n",
       "    }\n",
       "\n",
       "    .dataframe thead th {\n",
       "        text-align: right;\n",
       "    }\n",
       "</style>\n",
       "<table border=\"1\" class=\"dataframe\">\n",
       "  <thead>\n",
       "    <tr style=\"text-align: right;\">\n",
       "      <th></th>\n",
       "      <th>Observations</th>\n",
       "      <th>Empr. cdf</th>\n",
       "    </tr>\n",
       "    <tr>\n",
       "      <th>Index</th>\n",
       "      <th></th>\n",
       "      <th></th>\n",
       "    </tr>\n",
       "  </thead>\n",
       "  <tbody>\n",
       "    <tr>\n",
       "      <th>1</th>\n",
       "      <td>0.000073</td>\n",
       "      <td>0.0005</td>\n",
       "    </tr>\n",
       "    <tr>\n",
       "      <th>2</th>\n",
       "      <td>0.000100</td>\n",
       "      <td>0.0015</td>\n",
       "    </tr>\n",
       "    <tr>\n",
       "      <th>3</th>\n",
       "      <td>0.000261</td>\n",
       "      <td>0.0025</td>\n",
       "    </tr>\n",
       "    <tr>\n",
       "      <th>4</th>\n",
       "      <td>0.000414</td>\n",
       "      <td>0.0035</td>\n",
       "    </tr>\n",
       "    <tr>\n",
       "      <th>5</th>\n",
       "      <td>0.000447</td>\n",
       "      <td>0.0045</td>\n",
       "    </tr>\n",
       "    <tr>\n",
       "      <th>...</th>\n",
       "      <td>...</td>\n",
       "      <td>...</td>\n",
       "    </tr>\n",
       "    <tr>\n",
       "      <th>996</th>\n",
       "      <td>1.069047</td>\n",
       "      <td>0.9955</td>\n",
       "    </tr>\n",
       "    <tr>\n",
       "      <th>997</th>\n",
       "      <td>1.095593</td>\n",
       "      <td>0.9965</td>\n",
       "    </tr>\n",
       "    <tr>\n",
       "      <th>998</th>\n",
       "      <td>1.120292</td>\n",
       "      <td>0.9975</td>\n",
       "    </tr>\n",
       "    <tr>\n",
       "      <th>999</th>\n",
       "      <td>1.139760</td>\n",
       "      <td>0.9985</td>\n",
       "    </tr>\n",
       "    <tr>\n",
       "      <th>1000</th>\n",
       "      <td>1.623649</td>\n",
       "      <td>0.9995</td>\n",
       "    </tr>\n",
       "  </tbody>\n",
       "</table>\n",
       "<p>1000 rows × 2 columns</p>\n",
       "</div>"
      ],
      "text/plain": [
       "       Observations  Empr. cdf\n",
       "Index                         \n",
       "1          0.000073     0.0005\n",
       "2          0.000100     0.0015\n",
       "3          0.000261     0.0025\n",
       "4          0.000414     0.0035\n",
       "5          0.000447     0.0045\n",
       "...             ...        ...\n",
       "996        1.069047     0.9955\n",
       "997        1.095593     0.9965\n",
       "998        1.120292     0.9975\n",
       "999        1.139760     0.9985\n",
       "1000       1.623649     0.9995\n",
       "\n",
       "[1000 rows x 2 columns]"
      ]
     },
     "metadata": {},
     "output_type": "display_data"
    }
   ],
   "source": [
    "observations = sorted(observations)\n",
    "df = pd.DataFrame(observations,columns=[\"Observations\"], index=pd.RangeIndex(start=1, stop=N+1, name='Index'))\n",
    "# 0.5 is added as indices start with 0\n",
    "empr_cdf = [(i+0.5)/N for i in range(N)]\n",
    "df['Empr. cdf']= empr_cdf\n",
    "display(df)"
   ]
  },
  {
   "cell_type": "markdown",
   "metadata": {},
   "source": [
    "Now we are going to compare:\n",
    "- Emprical cdf against theoretical cdf for PP-plot\n",
    "- Observations against theoretical quantiles for QQ-plot\n",
    "\n",
    "As the observations are compared against exponential distribution, its theoretical cdf is computed as $F(x)=1-\\exp\\{-\\lambda x\\}$\n",
    "\n",
    "In this example, $\\lambda=5$ is used."
   ]
  },
  {
   "cell_type": "code",
   "execution_count": 66,
   "metadata": {},
   "outputs": [
    {
     "data": {
      "text/html": [
       "<div>\n",
       "<style scoped>\n",
       "    .dataframe tbody tr th:only-of-type {\n",
       "        vertical-align: middle;\n",
       "    }\n",
       "\n",
       "    .dataframe tbody tr th {\n",
       "        vertical-align: top;\n",
       "    }\n",
       "\n",
       "    .dataframe thead th {\n",
       "        text-align: right;\n",
       "    }\n",
       "</style>\n",
       "<table border=\"1\" class=\"dataframe\">\n",
       "  <thead>\n",
       "    <tr style=\"text-align: right;\">\n",
       "      <th></th>\n",
       "      <th>Observations</th>\n",
       "      <th>Empr. cdf</th>\n",
       "      <th>Theoretical. cdf</th>\n",
       "    </tr>\n",
       "    <tr>\n",
       "      <th>Index</th>\n",
       "      <th></th>\n",
       "      <th></th>\n",
       "      <th></th>\n",
       "    </tr>\n",
       "  </thead>\n",
       "  <tbody>\n",
       "    <tr>\n",
       "      <th>1</th>\n",
       "      <td>0.000073</td>\n",
       "      <td>0.0005</td>\n",
       "      <td>0.000363</td>\n",
       "    </tr>\n",
       "    <tr>\n",
       "      <th>2</th>\n",
       "      <td>0.000100</td>\n",
       "      <td>0.0015</td>\n",
       "      <td>0.000500</td>\n",
       "    </tr>\n",
       "    <tr>\n",
       "      <th>3</th>\n",
       "      <td>0.000261</td>\n",
       "      <td>0.0025</td>\n",
       "      <td>0.001302</td>\n",
       "    </tr>\n",
       "    <tr>\n",
       "      <th>4</th>\n",
       "      <td>0.000414</td>\n",
       "      <td>0.0035</td>\n",
       "      <td>0.002068</td>\n",
       "    </tr>\n",
       "    <tr>\n",
       "      <th>5</th>\n",
       "      <td>0.000447</td>\n",
       "      <td>0.0045</td>\n",
       "      <td>0.002230</td>\n",
       "    </tr>\n",
       "    <tr>\n",
       "      <th>...</th>\n",
       "      <td>...</td>\n",
       "      <td>...</td>\n",
       "      <td>...</td>\n",
       "    </tr>\n",
       "    <tr>\n",
       "      <th>996</th>\n",
       "      <td>1.069047</td>\n",
       "      <td>0.9955</td>\n",
       "      <td>0.995229</td>\n",
       "    </tr>\n",
       "    <tr>\n",
       "      <th>997</th>\n",
       "      <td>1.095593</td>\n",
       "      <td>0.9965</td>\n",
       "      <td>0.995822</td>\n",
       "    </tr>\n",
       "    <tr>\n",
       "      <th>998</th>\n",
       "      <td>1.120292</td>\n",
       "      <td>0.9975</td>\n",
       "      <td>0.996308</td>\n",
       "    </tr>\n",
       "    <tr>\n",
       "      <th>999</th>\n",
       "      <td>1.139760</td>\n",
       "      <td>0.9985</td>\n",
       "      <td>0.996650</td>\n",
       "    </tr>\n",
       "    <tr>\n",
       "      <th>1000</th>\n",
       "      <td>1.623649</td>\n",
       "      <td>0.9995</td>\n",
       "      <td>0.999702</td>\n",
       "    </tr>\n",
       "  </tbody>\n",
       "</table>\n",
       "<p>1000 rows × 3 columns</p>\n",
       "</div>"
      ],
      "text/plain": [
       "       Observations  Empr. cdf  Theoretical. cdf\n",
       "Index                                           \n",
       "1          0.000073     0.0005          0.000363\n",
       "2          0.000100     0.0015          0.000500\n",
       "3          0.000261     0.0025          0.001302\n",
       "4          0.000414     0.0035          0.002068\n",
       "5          0.000447     0.0045          0.002230\n",
       "...             ...        ...               ...\n",
       "996        1.069047     0.9955          0.995229\n",
       "997        1.095593     0.9965          0.995822\n",
       "998        1.120292     0.9975          0.996308\n",
       "999        1.139760     0.9985          0.996650\n",
       "1000       1.623649     0.9995          0.999702\n",
       "\n",
       "[1000 rows x 3 columns]"
      ]
     },
     "metadata": {},
     "output_type": "display_data"
    }
   ],
   "source": [
    "# 0.5 is added as indices start with 0\n",
    "theo_cdf = [1-np.exp(-lmbda* i) for i in observations]\n",
    "df[\"Theoretical. cdf\"] = theo_cdf\n",
    "display(df)"
   ]
  },
  {
   "cell_type": "markdown",
   "metadata": {},
   "source": [
    "Quantile values for emprical cdf values are computed using inverse cdf.\n",
    "\n",
    "For exponential distribution inverse cdf is $F^{-1}(x)=\\frac{1}{\\lambda}ln(1-x)$"
   ]
  },
  {
   "cell_type": "code",
   "execution_count": 67,
   "metadata": {},
   "outputs": [
    {
     "data": {
      "text/html": [
       "<div>\n",
       "<style scoped>\n",
       "    .dataframe tbody tr th:only-of-type {\n",
       "        vertical-align: middle;\n",
       "    }\n",
       "\n",
       "    .dataframe tbody tr th {\n",
       "        vertical-align: top;\n",
       "    }\n",
       "\n",
       "    .dataframe thead th {\n",
       "        text-align: right;\n",
       "    }\n",
       "</style>\n",
       "<table border=\"1\" class=\"dataframe\">\n",
       "  <thead>\n",
       "    <tr style=\"text-align: right;\">\n",
       "      <th></th>\n",
       "      <th>Observations</th>\n",
       "      <th>Empr. cdf</th>\n",
       "      <th>Theoretical. cdf</th>\n",
       "      <th>Theoretical quantile</th>\n",
       "    </tr>\n",
       "    <tr>\n",
       "      <th>Index</th>\n",
       "      <th></th>\n",
       "      <th></th>\n",
       "      <th></th>\n",
       "      <th></th>\n",
       "    </tr>\n",
       "  </thead>\n",
       "  <tbody>\n",
       "    <tr>\n",
       "      <th>1</th>\n",
       "      <td>0.000073</td>\n",
       "      <td>0.0005</td>\n",
       "      <td>0.000363</td>\n",
       "      <td>0.000100</td>\n",
       "    </tr>\n",
       "    <tr>\n",
       "      <th>2</th>\n",
       "      <td>0.000100</td>\n",
       "      <td>0.0015</td>\n",
       "      <td>0.000500</td>\n",
       "      <td>0.000300</td>\n",
       "    </tr>\n",
       "    <tr>\n",
       "      <th>3</th>\n",
       "      <td>0.000261</td>\n",
       "      <td>0.0025</td>\n",
       "      <td>0.001302</td>\n",
       "      <td>0.000501</td>\n",
       "    </tr>\n",
       "    <tr>\n",
       "      <th>4</th>\n",
       "      <td>0.000414</td>\n",
       "      <td>0.0035</td>\n",
       "      <td>0.002068</td>\n",
       "      <td>0.000701</td>\n",
       "    </tr>\n",
       "    <tr>\n",
       "      <th>5</th>\n",
       "      <td>0.000447</td>\n",
       "      <td>0.0045</td>\n",
       "      <td>0.002230</td>\n",
       "      <td>0.000902</td>\n",
       "    </tr>\n",
       "    <tr>\n",
       "      <th>...</th>\n",
       "      <td>...</td>\n",
       "      <td>...</td>\n",
       "      <td>...</td>\n",
       "      <td>...</td>\n",
       "    </tr>\n",
       "    <tr>\n",
       "      <th>996</th>\n",
       "      <td>1.069047</td>\n",
       "      <td>0.9955</td>\n",
       "      <td>0.995229</td>\n",
       "      <td>1.080736</td>\n",
       "    </tr>\n",
       "    <tr>\n",
       "      <th>997</th>\n",
       "      <td>1.095593</td>\n",
       "      <td>0.9965</td>\n",
       "      <td>0.995822</td>\n",
       "      <td>1.130998</td>\n",
       "    </tr>\n",
       "    <tr>\n",
       "      <th>998</th>\n",
       "      <td>1.120292</td>\n",
       "      <td>0.9975</td>\n",
       "      <td>0.996308</td>\n",
       "      <td>1.198293</td>\n",
       "    </tr>\n",
       "    <tr>\n",
       "      <th>999</th>\n",
       "      <td>1.139760</td>\n",
       "      <td>0.9985</td>\n",
       "      <td>0.996650</td>\n",
       "      <td>1.300458</td>\n",
       "    </tr>\n",
       "    <tr>\n",
       "      <th>1000</th>\n",
       "      <td>1.623649</td>\n",
       "      <td>0.9995</td>\n",
       "      <td>0.999702</td>\n",
       "      <td>1.520180</td>\n",
       "    </tr>\n",
       "  </tbody>\n",
       "</table>\n",
       "<p>1000 rows × 4 columns</p>\n",
       "</div>"
      ],
      "text/plain": [
       "       Observations  Empr. cdf  Theoretical. cdf  Theoretical quantile\n",
       "Index                                                                 \n",
       "1          0.000073     0.0005          0.000363              0.000100\n",
       "2          0.000100     0.0015          0.000500              0.000300\n",
       "3          0.000261     0.0025          0.001302              0.000501\n",
       "4          0.000414     0.0035          0.002068              0.000701\n",
       "5          0.000447     0.0045          0.002230              0.000902\n",
       "...             ...        ...               ...                   ...\n",
       "996        1.069047     0.9955          0.995229              1.080736\n",
       "997        1.095593     0.9965          0.995822              1.130998\n",
       "998        1.120292     0.9975          0.996308              1.198293\n",
       "999        1.139760     0.9985          0.996650              1.300458\n",
       "1000       1.623649     0.9995          0.999702              1.520180\n",
       "\n",
       "[1000 rows x 4 columns]"
      ]
     },
     "metadata": {},
     "output_type": "display_data"
    }
   ],
   "source": [
    "theo_quantile = [-1/lmbda*np.log(1-i) for i in empr_cdf]\n",
    "df[\"Theoretical quantile\"] = theo_quantile\n",
    "display(df)"
   ]
  },
  {
   "cell_type": "markdown",
   "metadata": {},
   "source": [
    "For PP-plot, plot emprical cdf against theoretical cdf"
   ]
  },
  {
   "cell_type": "code",
   "execution_count": 68,
   "metadata": {},
   "outputs": [
    {
     "data": {
      "image/png": "[encoded data removed]",
      "text/plain": [
       "<Figure size 432x288 with 1 Axes>"
      ]
     },
     "metadata": {
      "needs_background": "light"
     },
     "output_type": "display_data"
    }
   ],
   "source": [
    "plt.scatter(theo_cdf, empr_cdf)\n",
    "\n",
    "# draw line\n",
    "x = np.arange(0,1.1,0.1)\n",
    "plt.plot(x, x, color='red',linewidth=2)\n",
    "plt.xlabel('Theoretical cdf')\n",
    "plt.ylabel('Emprical cdf');"
   ]
  },
  {
   "cell_type": "markdown",
   "metadata": {},
   "source": [
    "For QQ-plot, plot observations against theoretical quantiles "
   ]
  },
  {
   "cell_type": "code",
   "execution_count": 58,
   "metadata": {},
   "outputs": [
    {
     "data": {
      "image/png": "[encoded data removed]",
      "text/plain": [
       "<Figure size 432x288 with 1 Axes>"
      ]
     },
     "metadata": {
      "needs_background": "light"
     },
     "output_type": "display_data"
    },
    {
     "data": {
      "image/png": "[encoded data removed]",
      "text/plain": [
       "<Figure size 432x288 with 1 Axes>"
      ]
     },
     "metadata": {
      "needs_background": "light"
     },
     "output_type": "display_data"
    }
   ],
   "source": [
    "plt.scatter(theo_quantile, observations)\n",
    "\n",
    "# draw line\n",
    "x = np.arange(0,1.61,0.1)\n",
    "plt.plot(x, x, color='red',linewidth=2)\n",
    "plt.xlabel('Theoretical quantiles')\n",
    "plt.ylabel('Observations');\n",
    "\n",
    "# Lets use statmodels library\n",
    "sm.qqplot(np.array(observations), expon, scale=1/lmbda, line='45');"
   ]
  },
  {
   "cell_type": "markdown",
   "metadata": {},
   "source": [
    "Lets try the same for observations from uniform distribution."
   ]
  },
  {
   "cell_type": "code",
   "execution_count": 59,
   "metadata": {},
   "outputs": [
    {
     "data": {
      "image/png": "[encoded data removed]",
      "text/plain": [
       "<Figure size 432x288 with 1 Axes>"
      ]
     },
     "metadata": {
      "needs_background": "light"
     },
     "output_type": "display_data"
    },
    {
     "data": {
      "image/png": "[encoded data removed]",
      "text/plain": [
       "<Figure size 432x288 with 1 Axes>"
      ]
     },
     "metadata": {
      "needs_background": "light"
     },
     "output_type": "display_data"
    }
   ],
   "source": [
    "from scipy.stats import uniform \n",
    "\n",
    "N = 1000\n",
    "observations = uniform.rvs(size = N)\n",
    "\n",
    "observations = sorted(observations)\n",
    "empr_cdf = [(i+0.5)/N for i in range(N)]\n",
    "theo_cdf = [1-np.exp(-lmbda* i) for i in observations]\n",
    "theo_quantile = [-1/lmbda*np.log(1-i) for i in empr_cdf] \n",
    "\n",
    "plt.scatter(theo_cdf, empr_cdf)\n",
    "\n",
    "# draw line\n",
    "x = np.arange(0,1.1,0.1)\n",
    "plt.plot(x, x, color='red',linewidth=2)\n",
    "plt.xlabel('Theoretical cdf')\n",
    "plt.ylabel('Emprical cdf');\n",
    "\n",
    "plt.figure()\n",
    "\n",
    "plt.scatter(theo_quantile, observations)\n",
    "\n",
    "# draw line\n",
    "x = np.arange(0,1.1,0.1)\n",
    "plt.plot(x, x, color='red',linewidth=2)\n",
    "plt.xlabel('Theoretical quantiles')\n",
    "plt.ylabel('Observations');\n",
    "\n",
    "\n",
    "# Lets use statmodels library\n",
    "# sm.qqplot(np.array(observations), expon, scale=1/lmbda, line='45');\n"
   ]
  },
  {
   "cell_type": "code",
   "execution_count": null,
   "metadata": {},
   "outputs": [],
   "source": []
  }
 ],
 "metadata": {
  "interpreter": {
   "hash": "518d2ba205814ce4dd070894f7d1d1f837c6d818bba15fd8ce75bb758c143c09"
  },
  "kernelspec": {
   "display_name": "Python 3 (ipykernel)",
   "language": "python",
   "name": "python3"
  },
  "language_info": {
   "codemirror_mode": {
    "name": "ipython",
    "version": 3
   },
   "file_extension": ".py",
   "mimetype": "text/x-python",
   "name": "python",
   "nbconvert_exporter": "python",
   "pygments_lexer": "ipython3",
   "version": "3.8.8"
  }
 },
 "nbformat": 4,
 "nbformat_minor": 2
}
