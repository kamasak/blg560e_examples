{
 "cells": [
  {
   "cell_type": "markdown",
   "metadata": {},
   "source": [
    "## Descriptive statistics\n",
    "\n",
    "Lets analyze Türkiye's monthly and annual inflation data published by Central Bank (TCMB)."
   ]
  },
  {
   "cell_type": "code",
   "execution_count": 1,
   "metadata": {},
   "outputs": [
    {
     "data": {
      "text/html": [
       "<div>\n",
       "<style scoped>\n",
       "    .dataframe tbody tr th:only-of-type {\n",
       "        vertical-align: middle;\n",
       "    }\n",
       "\n",
       "    .dataframe tbody tr th {\n",
       "        vertical-align: top;\n",
       "    }\n",
       "\n",
       "    .dataframe thead th {\n",
       "        text-align: right;\n",
       "    }\n",
       "</style>\n",
       "<table border=\"1\" class=\"dataframe\">\n",
       "  <thead>\n",
       "    <tr style=\"text-align: right;\">\n",
       "      <th></th>\n",
       "      <th>Tarih</th>\n",
       "      <th>Tufe_yil</th>\n",
       "      <th>Tufe_ay</th>\n",
       "    </tr>\n",
       "  </thead>\n",
       "  <tbody>\n",
       "    <tr>\n",
       "      <th>0</th>\n",
       "      <td>Sub.22</td>\n",
       "      <td>54.44</td>\n",
       "      <td>4.81</td>\n",
       "    </tr>\n",
       "    <tr>\n",
       "      <th>1</th>\n",
       "      <td>Oca.22</td>\n",
       "      <td>48.69</td>\n",
       "      <td>11.10</td>\n",
       "    </tr>\n",
       "    <tr>\n",
       "      <th>2</th>\n",
       "      <td>Ara.21</td>\n",
       "      <td>36.08</td>\n",
       "      <td>13.58</td>\n",
       "    </tr>\n",
       "    <tr>\n",
       "      <th>3</th>\n",
       "      <td>Kas.21</td>\n",
       "      <td>21.31</td>\n",
       "      <td>3.51</td>\n",
       "    </tr>\n",
       "    <tr>\n",
       "      <th>4</th>\n",
       "      <td>Eki.21</td>\n",
       "      <td>19.89</td>\n",
       "      <td>2.39</td>\n",
       "    </tr>\n",
       "  </tbody>\n",
       "</table>\n",
       "</div>"
      ],
      "text/plain": [
       "    Tarih  Tufe_yil  Tufe_ay\n",
       "0  Sub.22     54.44     4.81\n",
       "1  Oca.22     48.69    11.10\n",
       "2  Ara.21     36.08    13.58\n",
       "3  Kas.21     21.31     3.51\n",
       "4  Eki.21     19.89     2.39"
      ]
     },
     "execution_count": 1,
     "metadata": {},
     "output_type": "execute_result"
    }
   ],
   "source": [
    "import pandas as pd\n",
    "import matplotlib.pyplot as plt\n",
    "import numpy as np\n",
    "\n",
    "data = pd.read_csv('../data/enflasyon.csv',delimiter=';')\n",
    "\n",
    "data.head()"
   ]
  },
  {
   "cell_type": "markdown",
   "metadata": {},
   "source": [
    "Lets check mean and median values of annual inflation for Türkiye."
   ]
  },
  {
   "cell_type": "code",
   "execution_count": 2,
   "metadata": {},
   "outputs": [
    {
     "name": "stdout",
     "output_type": "stream",
     "text": [
      "Computed mean: 10.609805825242717  Pandas mean: 10.609805825242718\n",
      "Computed median: 9.15  Pandas median: 9.15\n"
     ]
    }
   ],
   "source": [
    "# mean and median values for annual inflation\n",
    "\n",
    "# compute manually and compare it with pandas library results\n",
    "ann_inf = data['Tufe_yil']\n",
    "\n",
    "N = ann_inf.shape[0]\n",
    "M = int(0.5*N)\n",
    "pd_mean = ann_inf.mean()\n",
    "mn_mean = sum(ann_inf)/N\n",
    "\n",
    "print(f\"Computed mean: {mn_mean}  Pandas mean: {pd_mean}\")\n",
    "\n",
    "\n",
    "pd_median = ann_inf.median()\n",
    "\n",
    "ann_inf_ordered = ann_inf.sort_values(ascending=True)\n",
    "\n",
    "if N%2 == 1:\n",
    "    mn_median = ann_inf_ordered.iloc[M+1]\n",
    "else:\n",
    "    mn_median = 0.5*(ann_inf_ordered.iloc[M-1]+ann_inf_ordered.iloc[M])\n",
    "\n",
    "print(f\"Computed median: {mn_median}  Pandas median: {pd_median}\")"
   ]
  },
  {
   "cell_type": "markdown",
   "metadata": {},
   "source": [
    "Lets compute standard deviation of annual inflation."
   ]
  },
  {
   "cell_type": "code",
   "execution_count": 3,
   "metadata": {},
   "outputs": [
    {
     "name": "stdout",
     "output_type": "stream",
     "text": [
      "Computed std dev: 5.889890467420409  Pandas std dev: 5.889890467420409\n"
     ]
    }
   ],
   "source": [
    "# standard deviation values for annual inflation\n",
    "\n",
    "# compute manually and compare it with pandas library results\n",
    "ann_inf = data['Tufe_yil']\n",
    "\n",
    "N = ann_inf.shape[0]\n",
    "pd_std_dev = ann_inf.std(ddof=1)\n",
    "sse = (ann_inf - ann_inf.mean())**2\n",
    "mn_std_dev = np.sqrt(sse.sum()/(N-1))\n",
    "\n",
    "\n",
    "print(f\"Computed std dev: {mn_std_dev}  Pandas std dev: {pd_std_dev}\")"
   ]
  },
  {
   "cell_type": "markdown",
   "metadata": {},
   "source": [
    "Lets compute range, quartiles, IQR"
   ]
  },
  {
   "cell_type": "code",
   "execution_count": 4,
   "metadata": {},
   "outputs": [
    {
     "name": "stdout",
     "output_type": "stream",
     "text": [
      "range: 50.449999999999996\n",
      "q1: 7.71  q3: 11.29, iqr: 3.579999999999999\n",
      "q1: 7.71  q3: 11.29, iqr: 3.579999999999999\n"
     ]
    }
   ],
   "source": [
    "ann_inf = data['Tufe_yil']\n",
    "N = ann_inf.shape[0]\n",
    "\n",
    "# range \n",
    "range = ann_inf.max() - ann_inf.min()\n",
    "print(f\"range: {range}\")\n",
    "\n",
    "\n",
    "q1 = ann_inf.sort_values(ascending=True).iloc[int(N/4)]\n",
    "q3 = ann_inf.sort_values(ascending=True).iloc[int(3*N/4)]\n",
    "iqr = q3-q1\n",
    "\n",
    "print(f\"q1: {q1}  q3: {q3}, iqr: {q3-q1}\")\n",
    "\n",
    "# its better to use linear interpolation\n",
    "# nearest point interpolation is used for simplicity\n",
    "pd_q1 = ann_inf.quantile(0.25, interpolation='nearest')\n",
    "pd_q3 = ann_inf.quantile(0.75, interpolation='nearest')\n",
    "\n",
    "print(f\"q1: {pd_q1}  q3: {pd_q3}, iqr: {pd_q3-pd_q1}\")"
   ]
  },
  {
   "cell_type": "code",
   "execution_count": 5,
   "metadata": {},
   "outputs": [
    {
     "data": {
      "text/plain": [
       "count    206.000000\n",
       "mean      10.609806\n",
       "std        5.889890\n",
       "min        3.990000\n",
       "25%        7.712500\n",
       "50%        9.150000\n",
       "75%       11.267500\n",
       "max       54.440000\n",
       "Name: Tufe_yil, dtype: float64"
      ]
     },
     "execution_count": 5,
     "metadata": {},
     "output_type": "execute_result"
    }
   ],
   "source": [
    "ann_inf.describe()"
   ]
  },
  {
   "cell_type": "markdown",
   "metadata": {},
   "source": [
    "Lets check for outliers"
   ]
  },
  {
   "cell_type": "code",
   "execution_count": 6,
   "metadata": {},
   "outputs": [
    {
     "name": "stdout",
     "output_type": "stream",
     "text": [
      "Low: 2.3400000000000007 High: 16.659999999999997\n",
      "Series([], Name: Tufe_yil, dtype: float64)\n",
      "0     54.44\n",
      "1     48.69\n",
      "2     36.08\n",
      "3     21.31\n",
      "4     19.89\n",
      "5     19.58\n",
      "6     19.25\n",
      "7     18.95\n",
      "8     17.53\n",
      "10    17.14\n",
      "33    18.71\n",
      "34    19.50\n",
      "35    19.71\n",
      "36    19.67\n",
      "37    20.35\n",
      "38    20.30\n",
      "39    21.62\n",
      "40    25.24\n",
      "41    24.52\n",
      "42    17.90\n",
      "Name: Tufe_yil, dtype: float64\n"
     ]
    }
   ],
   "source": [
    "ann_inf = data['Tufe_yil']\n",
    "N = ann_inf.shape[0]\n",
    "\n",
    "L = q1-1.5*iqr \n",
    "H = q3+1.5*iqr \n",
    "\n",
    "print(f\"Low: {L} High: {H}\")\n",
    "#print(ann_inf)\n",
    "outliers = ann_inf[ ann_inf < L]\n",
    "print(outliers)\n",
    "\n",
    "outliers = ann_inf[ ann_inf > H]\n",
    "print(outliers)\n"
   ]
  },
  {
   "cell_type": "code",
   "execution_count": 7,
   "metadata": {},
   "outputs": [
    {
     "data": {
      "image/png": "[encoded data removed]",
      "text/plain": [
       "<Figure size 432x288 with 1 Axes>"
      ]
     },
     "metadata": {
      "needs_background": "light"
     },
     "output_type": "display_data"
    }
   ],
   "source": [
    "plt.boxplot(ann_inf);\n"
   ]
  },
  {
   "cell_type": "markdown",
   "metadata": {},
   "source": [
    "Lets compute skewness and kurtosis values."
   ]
  },
  {
   "cell_type": "code",
   "execution_count": 16,
   "metadata": {},
   "outputs": [
    {
     "name": "stdout",
     "output_type": "stream",
     "text": [
      "Skewness computed: 4.05447132605419 pandas: 4.084174339156995\n",
      "Excess kurtosis computed: 22.923462062238666 pandas: 23.77923312756574\n"
     ]
    }
   ],
   "source": [
    "# Skewness\n",
    "ann_inf = data['Tufe_yil']\n",
    "N = ann_inf.shape[0]\n",
    "\n",
    "mean = ann_inf.mean()\n",
    "std = ann_inf.std(ddof=1)\n",
    "\n",
    "skewness = 1/N * (((ann_inf-mean)/std)**3).sum()\n",
    "skewness *= np.sqrt(N*(N-1))/(N-2)\n",
    "print(f\"Skewness computed: {skewness} pandas: {ann_inf.skew()}\")\n",
    "\n",
    "# Kurtosis \n",
    "kurtosis = 1/N * (((ann_inf-mean)/std)**4).sum() - 3\n",
    "print(f\"Excess kurtosis computed: {kurtosis} pandas: {ann_inf.kurt()}\")"
   ]
  },
  {
   "cell_type": "markdown",
   "metadata": {},
   "source": [
    "Lets compute the Pearson correlation coefficient between annual and monthly inflation"
   ]
  },
  {
   "cell_type": "code",
   "execution_count": 9,
   "metadata": {},
   "outputs": [
    {
     "data": {
      "text/html": [
       "<div>\n",
       "<style scoped>\n",
       "    .dataframe tbody tr th:only-of-type {\n",
       "        vertical-align: middle;\n",
       "    }\n",
       "\n",
       "    .dataframe tbody tr th {\n",
       "        vertical-align: top;\n",
       "    }\n",
       "\n",
       "    .dataframe thead th {\n",
       "        text-align: right;\n",
       "    }\n",
       "</style>\n",
       "<table border=\"1\" class=\"dataframe\">\n",
       "  <thead>\n",
       "    <tr style=\"text-align: right;\">\n",
       "      <th></th>\n",
       "      <th>Tufe_yil</th>\n",
       "      <th>Tufe_ay</th>\n",
       "    </tr>\n",
       "  </thead>\n",
       "  <tbody>\n",
       "    <tr>\n",
       "      <th>Tufe_yil</th>\n",
       "      <td>1.000000</td>\n",
       "      <td>0.642439</td>\n",
       "    </tr>\n",
       "    <tr>\n",
       "      <th>Tufe_ay</th>\n",
       "      <td>0.642439</td>\n",
       "      <td>1.000000</td>\n",
       "    </tr>\n",
       "  </tbody>\n",
       "</table>\n",
       "</div>"
      ],
      "text/plain": [
       "          Tufe_yil   Tufe_ay\n",
       "Tufe_yil  1.000000  0.642439\n",
       "Tufe_ay   0.642439  1.000000"
      ]
     },
     "execution_count": 9,
     "metadata": {},
     "output_type": "execute_result"
    }
   ],
   "source": [
    "data.corr(method='pearson')"
   ]
  },
  {
   "cell_type": "code",
   "execution_count": 10,
   "metadata": {},
   "outputs": [
    {
     "data": {
      "text/html": [
       "<div>\n",
       "<style scoped>\n",
       "    .dataframe tbody tr th:only-of-type {\n",
       "        vertical-align: middle;\n",
       "    }\n",
       "\n",
       "    .dataframe tbody tr th {\n",
       "        vertical-align: top;\n",
       "    }\n",
       "\n",
       "    .dataframe thead th {\n",
       "        text-align: right;\n",
       "    }\n",
       "</style>\n",
       "<table border=\"1\" class=\"dataframe\">\n",
       "  <thead>\n",
       "    <tr style=\"text-align: right;\">\n",
       "      <th></th>\n",
       "      <th>Tufe_yil</th>\n",
       "      <th>Tufe_ay</th>\n",
       "    </tr>\n",
       "  </thead>\n",
       "  <tbody>\n",
       "    <tr>\n",
       "      <th>Tufe_yil</th>\n",
       "      <td>1.000000</td>\n",
       "      <td>0.333617</td>\n",
       "    </tr>\n",
       "    <tr>\n",
       "      <th>Tufe_ay</th>\n",
       "      <td>0.333617</td>\n",
       "      <td>1.000000</td>\n",
       "    </tr>\n",
       "  </tbody>\n",
       "</table>\n",
       "</div>"
      ],
      "text/plain": [
       "          Tufe_yil   Tufe_ay\n",
       "Tufe_yil  1.000000  0.333617\n",
       "Tufe_ay   0.333617  1.000000"
      ]
     },
     "execution_count": 10,
     "metadata": {},
     "output_type": "execute_result"
    }
   ],
   "source": [
    "data.corr(method='spearman')"
   ]
  },
  {
   "cell_type": "code",
   "execution_count": 11,
   "metadata": {},
   "outputs": [
    {
     "data": {
      "image/png": "[encoded data removed]",
      "text/plain": [
       "<Figure size 432x288 with 1 Axes>"
      ]
     },
     "metadata": {
      "needs_background": "light"
     },
     "output_type": "display_data"
    }
   ],
   "source": [
    "# scatter graph\n",
    "ann_inf = data['Tufe_yil']\n",
    "month_inf = data['Tufe_ay']\n",
    "\n",
    "plt.scatter(ann_inf, month_inf);\n"
   ]
  }
 ],
 "metadata": {
  "interpreter": {
   "hash": "518d2ba205814ce4dd070894f7d1d1f837c6d818bba15fd8ce75bb758c143c09"
  },
  "kernelspec": {
   "display_name": "Python 3.7.0 32-bit",
   "language": "python",
   "name": "python3"
  },
  "language_info": {
   "codemirror_mode": {
    "name": "ipython",
    "version": 3
   },
   "file_extension": ".py",
   "mimetype": "text/x-python",
   "name": "python",
   "nbconvert_exporter": "python",
   "pygments_lexer": "ipython3",
   "version": "3.7.0"
  },
  "orig_nbformat": 4
 },
 "nbformat": 4,
 "nbformat_minor": 2
}
