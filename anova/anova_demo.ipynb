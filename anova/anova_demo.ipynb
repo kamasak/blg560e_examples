{
 "cells": [
  {
   "cell_type": "markdown",
   "metadata": {},
   "source": [
    "Preliminary studies indicate a possible connection between one's natural hair color and threshold for pain. A sample of 12 women were classified as to having light, medium and dark hair. Each was the given a pain sensitivity test, with the following result.\n",
    "\n",
    "| Light  | Medium | Dark  |\n",
    "|:---:|:---:|:---:|\n",
    "63 | 60 | 45 |\n",
    "72 | 48 | 33 |\n",
    "52 | 44 | 57 |\n",
    "60 | 53 | 40 |\n",
    "\n",
    "Are the given data sufficient to establish that hair color affects the results of a pain sensitivity test. Use significance level of 0.05."
   ]
  },
  {
   "cell_type": "code",
   "execution_count": 1,
   "metadata": {},
   "outputs": [
    {
     "name": "stdout",
     "output_type": "stream",
     "text": [
      "[61.75 51.25 43.75] 52.25\n",
      "SSTr: 654.00 dof: 2 MSTr: 327.00\n",
      "SSE: 654.25 dof: 9 MSE: 72.69\n"
     ]
    },
    {
     "ename": "NameError",
     "evalue": "name 'f_distr' is not defined",
     "output_type": "error",
     "traceback": [
      "\u001b[1;31m---------------------------------------------------------------------------\u001b[0m",
      "\u001b[1;31mNameError\u001b[0m                                 Traceback (most recent call last)",
      "\u001b[1;32m<ipython-input-1-4800ee34c706>\u001b[0m in \u001b[0;36m<module>\u001b[1;34m\u001b[0m\n\u001b[0;32m     20\u001b[0m \u001b[1;33m\u001b[0m\u001b[0m\n\u001b[0;32m     21\u001b[0m \u001b[0mF\u001b[0m \u001b[1;33m=\u001b[0m \u001b[0mMSTr\u001b[0m\u001b[1;33m/\u001b[0m\u001b[0mMSE\u001b[0m\u001b[1;33m\u001b[0m\u001b[0m\n\u001b[1;32m---> 22\u001b[1;33m \u001b[0mp_val\u001b[0m \u001b[1;33m=\u001b[0m \u001b[1;36m1\u001b[0m\u001b[1;33m-\u001b[0m\u001b[0mf_distr\u001b[0m\u001b[1;33m.\u001b[0m\u001b[0mcdf\u001b[0m\u001b[1;33m(\u001b[0m\u001b[0mF\u001b[0m\u001b[1;33m,\u001b[0m \u001b[0mdof1\u001b[0m\u001b[1;33m,\u001b[0m \u001b[0mdof2\u001b[0m\u001b[1;33m)\u001b[0m\u001b[1;33m\u001b[0m\u001b[0m\n\u001b[0m\u001b[0;32m     23\u001b[0m \u001b[1;33m\u001b[0m\u001b[0m\n\u001b[0;32m     24\u001b[0m \u001b[0mprint\u001b[0m\u001b[1;33m(\u001b[0m\u001b[1;34mf\"F stat: {F:.4}  p-val: {p_val:.4}\"\u001b[0m\u001b[1;33m)\u001b[0m\u001b[1;33m\u001b[0m\u001b[0m\n",
      "\u001b[1;31mNameError\u001b[0m: name 'f_distr' is not defined"
     ]
    }
   ],
   "source": [
    "import numpy as np \n",
    "\n",
    "data = np.array([ [63, 72, 52, 60],\n",
    "                  [60, 48, 44, 53],\n",
    "                  [45, 33, 57, 40] ])\n",
    "\n",
    "x_bar = data.mean(axis=1)\n",
    "x_dbar = data.mean()\n",
    "print(x_bar, x_dbar)\n",
    "\n",
    "# Compute sum of squares for treatment\n",
    "SSTr = (4*(x_bar - x_dbar)**2).sum()\n",
    "# dof is # of populations-1\n",
    "dof1 = data.shape[0]-1\n",
    "MSTr = SSTr / dof1 \n",
    "print(f\"SSTr: {SSTr:.2f} dof: {dof1} MSTr: {MSTr:.2f}\")\n",
    "\n",
    "# Compute sum of squares for error\n",
    "SSE = ((data.T - x_bar)**2).sum()\n",
    "# dof is N - # of populations\n",
    "dof2 = data.shape[0]*data.shape[1]-x_bar.shape[0]\n",
    "MSE = SSE/dof2\n",
    "print(f\"SSE: {SSE:.2f} dof: {dof2} MSE: {MSE:.2f}\")\n",
    "\n",
    "F = MSTr/MSE\n",
    "p_val = 1-f_distr.cdf(F, dof1, dof2)\n",
    "\n",
    "print(f\"F stat: {F:.4}  p-val: {p_val:.4}\")\n"
   ]
  }
 ],
 "metadata": {
  "kernelspec": {
   "display_name": "Python 3.7.0 32-bit",
   "language": "python",
   "name": "python3"
  },
  "language_info": {
   "codemirror_mode": {
    "name": "ipython",
    "version": 3
   },
   "file_extension": ".py",
   "mimetype": "text/x-python",
   "name": "python",
   "nbconvert_exporter": "python",
   "pygments_lexer": "ipython3",
   "version": "3.7.0"
  },
  "orig_nbformat": 4,
  "vscode": {
   "interpreter": {
    "hash": "162380fd54367c0bd1949d3febda21d0bf9a470df17547b5d6bf9eb0b1e9abb4"
   }
  }
 },
 "nbformat": 4,
 "nbformat_minor": 2
}
