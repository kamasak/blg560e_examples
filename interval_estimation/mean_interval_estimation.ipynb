{
 "cells": [
  {
   "cell_type": "markdown",
   "metadata": {},
   "source": [
    "## Interval Estimation Demo\n",
    "\n",
    "Lets assume we have a population that is normal distributed with mean of $\\mu=3$ and standard deviation of $\\sigma=5$.\n",
    "$$\n",
    "X \\sim {\\cal N}(3, 25)\n",
    "$$\n",
    "\n",
    "Lets take a sample of size 100 from this population."
   ]
  },
  {
   "cell_type": "code",
   "execution_count": 1,
   "metadata": {},
   "outputs": [],
   "source": [
    "import pandas as pd\n",
    "from scipy.stats import norm\n",
    "import matplotlib.pyplot as plt\n",
    "import numpy as np\n",
    "\n",
    "# sample size\n",
    "N = 100\n",
    "\n",
    "# population mean and standard deviation\n",
    "mu = 3\n",
    "std = 5\n",
    "\n",
    "sample = norm.rvs(loc = mu, scale=std, size=N)"
   ]
  },
  {
   "cell_type": "markdown",
   "metadata": {},
   "source": [
    "Lets assume that we know the population standard deviation.\n",
    "\n",
    "Lets write a function that computes a confidence interval. This function would return lower and upper limit of the interval.\n",
    "\n",
    "$(1-\\alpha)$% CI is $[\\overline{x}-z_{\\alpha/2}\\frac{\\sigma}{\\sqrt{N}}, \\overline{x}+z_{\\alpha/2}\\frac{\\sigma}{\\sqrt{N}}]$"
   ]
  },
  {
   "cell_type": "code",
   "execution_count": 16,
   "metadata": {},
   "outputs": [
    {
     "name": "stdout",
     "output_type": "stream",
     "text": [
      "0.9% CI: [1.4234079590333581, 3.0682615859848306]\n",
      "0.95% CI: [1.2658527802390673, 3.2258167647791214]\n",
      "0.99% CI: [0.9579201207346442, 3.5337494242835445]\n"
     ]
    }
   ],
   "source": [
    "def confidence_interval(data, alpha, std):\n",
    "    xbar = np.mean(data)\n",
    "    np.std(data, ddof=1)\n",
    "    N = np.shape(data)[0]\n",
    "\n",
    "    if std == None:\n",
    "        # if population standard deviation is unknown pass None\n",
    "        pass\n",
    "    elif std <= 0:\n",
    "        raise Exception(\"Standard deviation should be nonnegative\")\n",
    "    else:\n",
    "        # population deviation is known and has a valid value\n",
    "        z_half_alpha = norm.ppf(1-0.5*alpha)\n",
    "        L = xbar - z_half_alpha*std/np.sqrt(N)\n",
    "        H = xbar + z_half_alpha*std/np.sqrt(N)\n",
    "        return L, H\n",
    "\n",
    "# test\n",
    "alpha = 0.1\n",
    "L, H = confidence_interval(sample, alpha, 5)\n",
    "print(f\"{1-alpha}% CI: [{L}, {H}]\")\n",
    "\n",
    "alpha = 0.05\n",
    "L, H = confidence_interval(sample, alpha, 5)\n",
    "print(f\"{1-alpha}% CI: [{L}, {H}]\")\n",
    "\n",
    "alpha = 0.01\n",
    "L, H = confidence_interval(sample, alpha, 5)\n",
    "print(f\"{1-alpha}% CI: [{L}, {H}]\")   "
   ]
  },
  {
   "cell_type": "markdown",
   "metadata": {},
   "source": [
    "Lets assume that population standard deviation is unknown.\n",
    "\n",
    "Lets revise the function that computes a confidence interval without population standard deviation. This function returns lower and upper limit of the interval.\n",
    "\n",
    "$(1-\\alpha)$% CI is $[\\overline{x}-t_{\\alpha/2}\\frac{s}{\\sqrt{N}}, \\overline{x}+t_{\\alpha/2}\\frac{s}{\\sqrt{N}}]$"
   ]
  },
  {
   "cell_type": "code",
   "execution_count": 18,
   "metadata": {},
   "outputs": [
    {
     "name": "stdout",
     "output_type": "stream",
     "text": [
      "0.9% CI: [1.3982241194324452, 3.0934454255857435]\n",
      "0.95% CI: [1.2329147626426422, 3.2587547823755463]\n",
      "0.99% CI: [0.905084891921581, 3.5865846530966077]\n"
     ]
    }
   ],
   "source": [
    "from scipy.stats import t\n",
    "\n",
    "def confidence_interval(data, alpha, std):\n",
    "    xbar = np.mean(data)\n",
    "    s = np.std(data, ddof=1)\n",
    "    N = np.shape(data)[0]\n",
    "\n",
    "    if std == None:\n",
    "        # if population standard deviation is unknown pass None\n",
    "        t_half_alpha = t.ppf(1-0.5*alpha, N-1)\n",
    "        L = xbar - t_half_alpha*s/np.sqrt(N)\n",
    "        H = xbar + t_half_alpha*s/np.sqrt(N)\n",
    "        return L, H\n",
    "    elif std <= 0:\n",
    "        raise Exception(\"Standard deviation should be nonnegative\")\n",
    "    else:\n",
    "        # population deviation is known and has a valid value\n",
    "        z_half_alpha = norm.ppf(1-0.5*alpha)\n",
    "        L = xbar - z_half_alpha*std/np.sqrt(N)\n",
    "        H = xbar + z_half_alpha*std/np.sqrt(N)\n",
    "        return L, H\n",
    "\n",
    "# test\n",
    "alpha = 0.1\n",
    "L, H = confidence_interval(sample, alpha, None)\n",
    "print(f\"{1-alpha}% CI: [{L}, {H}]\")\n",
    "\n",
    "alpha = 0.05\n",
    "L, H = confidence_interval(sample, alpha, None)\n",
    "print(f\"{1-alpha}% CI: [{L}, {H}]\")\n",
    "\n",
    "alpha = 0.01\n",
    "L, H = confidence_interval(sample, alpha, None)\n",
    "print(f\"{1-alpha}% CI: [{L}, {H}]\")   "
   ]
  },
  {
   "cell_type": "markdown",
   "metadata": {},
   "source": [
    "Now consider 95% CI with unknown population standard deviation. \n",
    "\n",
    "Lets generate 1.000 samples and compute their 95% CI intervals. Lets see how many of these intervals include real population mean 3."
   ]
  },
  {
   "cell_type": "code",
   "execution_count": 23,
   "metadata": {},
   "outputs": [
    {
     "name": "stdout",
     "output_type": "stream",
     "text": [
      "Proportion of catches: 0.951\n",
      "This value should be close to 0.95\n"
     ]
    }
   ],
   "source": [
    "mean_in_interval = list()\n",
    "\n",
    "# sample size\n",
    "N = 100\n",
    "\n",
    "# population mean and standard deviation\n",
    "mu = 3\n",
    "std = 5\n",
    "\n",
    "# significance level \n",
    "alpha = 0.05\n",
    "\n",
    "# number of repeats\n",
    "M = 1000\n",
    "\n",
    "for i in range(M):\n",
    "    # form  sample\n",
    "    sample = norm.rvs(loc = mu, scale=std, size=N) \n",
    "\n",
    "    L, H = confidence_interval(sample, alpha, None)\n",
    "\n",
    "    if L <= mu <= H:\n",
    "        mean_in_interval.append(1)\n",
    "    else:\n",
    "        mean_in_interval.append(0)\n",
    "\n",
    "print(f\"Proportion of catches: {np.sum(mean_in_interval)/M}\")\n",
    "print(f\"This value should be close to {1-alpha}\")\n"
   ]
  }
 ],
 "metadata": {
  "interpreter": {
   "hash": "518d2ba205814ce4dd070894f7d1d1f837c6d818bba15fd8ce75bb758c143c09"
  },
  "kernelspec": {
   "display_name": "Python 3.7.0 32-bit",
   "language": "python",
   "name": "python3"
  },
  "language_info": {
   "codemirror_mode": {
    "name": "ipython",
    "version": 3
   },
   "file_extension": ".py",
   "mimetype": "text/x-python",
   "name": "python",
   "nbconvert_exporter": "python",
   "pygments_lexer": "ipython3",
   "version": "3.7.0"
  },
  "orig_nbformat": 4
 },
 "nbformat": 4,
 "nbformat_minor": 2
}
