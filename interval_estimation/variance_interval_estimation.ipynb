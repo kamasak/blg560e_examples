{
 "cells": [
  {
   "cell_type": "markdown",
   "metadata": {},
   "source": [
    "## Interval Estimation Demo for Population Variance\n",
    "\n",
    "Lets assume we have a population that is normal distributed with mean of $\\mu=3$ and standard deviation of $\\sigma=5$.\n",
    "$$\n",
    "X \\sim {\\cal N}(3, 25)\n",
    "$$\n",
    "\n",
    "Lets take a sample of size 100 from this population."
   ]
  },
  {
   "cell_type": "code",
   "execution_count": 1,
   "metadata": {},
   "outputs": [],
   "source": [
    "import pandas as pd\n",
    "from scipy.stats import norm\n",
    "import matplotlib.pyplot as plt\n",
    "import numpy as np\n",
    "\n",
    "# sample size\n",
    "N = 100\n",
    "\n",
    "# population mean and standard deviation\n",
    "mu = 3\n",
    "std = 5\n",
    "\n",
    "sample = norm.rvs(loc = mu, scale=std, size=N)"
   ]
  },
  {
   "cell_type": "markdown",
   "metadata": {},
   "source": [
    "Lets write a function that computes a confidence interval for population variance. \n",
    "\n",
    "This function would return lower and upper limit of the interval.\n",
    "\n",
    "$(1-\\alpha)$% CI is $[\\frac{(N-1)s^2}{\\chi_{N-1, 1-\\alpha/2}}, \\frac{(N-1)s^2}{\\chi_{N-1,\\alpha/2}}]$"
   ]
  },
  {
   "cell_type": "code",
   "execution_count": 2,
   "metadata": {},
   "outputs": [
    {
     "name": "stdout",
     "output_type": "stream",
     "text": [
      "0.9% CI: [22.39514784492078, 35.81801996168978]\n"
     ]
    }
   ],
   "source": [
    "from scipy.stats import chi2\n",
    "\n",
    "def confidence_interval(data, alpha):\n",
    "    s = np.std(data, ddof=1)\n",
    "    N = np.shape(data)[0]\n",
    "\n",
    "    L = (N-1)*s**2/chi2.ppf(1-0.5*alpha, N-1)\n",
    "    H = (N-1)*s**2/chi2.ppf(0.5*alpha, N-1)\n",
    "    \n",
    "    return L, H\n",
    "\n",
    "# test\n",
    "alpha = 0.1\n",
    "L, H = confidence_interval(sample, alpha)\n",
    "print(f\"{1-alpha}% CI: [{L}, {H}]\")\n",
    " "
   ]
  },
  {
   "cell_type": "markdown",
   "metadata": {},
   "source": [
    "Lets generate 1.000 samples and compute their 95% CI intervals for population variance. Lets see how many of these intervals include real population variance of 25."
   ]
  },
  {
   "cell_type": "code",
   "execution_count": 3,
   "metadata": {},
   "outputs": [
    {
     "name": "stdout",
     "output_type": "stream",
     "text": [
      "Proportion of catches: 0.946\n",
      "This value should be close to 0.95\n"
     ]
    }
   ],
   "source": [
    "variance_in_interval = list()\n",
    "\n",
    "# sample size\n",
    "N = 100\n",
    "\n",
    "# population mean and standard deviation\n",
    "mu = 3\n",
    "std = 5\n",
    "\n",
    "# significance level \n",
    "alpha = 0.05\n",
    "\n",
    "# number of repeats\n",
    "M = 1000\n",
    "\n",
    "for i in range(M):\n",
    "    # form  sample\n",
    "    sample = norm.rvs(loc = mu, scale=std, size=N) \n",
    "\n",
    "    L, H = confidence_interval(sample, alpha)\n",
    "\n",
    "    if L <= std**2 <= H:\n",
    "        variance_in_interval.append(1)\n",
    "    else:\n",
    "        variance_in_interval.append(0)\n",
    "\n",
    "print(f\"Proportion of catches: {np.sum(variance_in_interval)/M}\")\n",
    "print(f\"This value should be close to {1-alpha}\")\n"
   ]
  }
 ],
 "metadata": {
  "interpreter": {
   "hash": "518d2ba205814ce4dd070894f7d1d1f837c6d818bba15fd8ce75bb758c143c09"
  },
  "kernelspec": {
   "display_name": "Python 3.7.0 32-bit",
   "language": "python",
   "name": "python3"
  },
  "language_info": {
   "codemirror_mode": {
    "name": "ipython",
    "version": 3
   },
   "file_extension": ".py",
   "mimetype": "text/x-python",
   "name": "python",
   "nbconvert_exporter": "python",
   "pygments_lexer": "ipython3",
   "version": "3.7.0"
  },
  "orig_nbformat": 4
 },
 "nbformat": 4,
 "nbformat_minor": 2
}
