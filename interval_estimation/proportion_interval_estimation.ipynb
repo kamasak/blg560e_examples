{
 "cells": [
  {
   "cell_type": "markdown",
   "metadata": {},
   "source": [
    "## Interval Estimation Demo\n",
    "\n",
    "Lets assume we have a population that has prevalence of high collestrol level by p=0.3.\n",
    "$$\n",
    "X \\sim Bernoulli(0.3)\n",
    "$$\n",
    "\n",
    "Lets take a sample of size 100 from this population."
   ]
  },
  {
   "cell_type": "code",
   "execution_count": 3,
   "metadata": {},
   "outputs": [
    {
     "name": "stdout",
     "output_type": "stream",
     "text": [
      "[0 0 1 1 0 1 0 1 1 0 0 0 0 0 0 0 0 0 0 0 1 0 1 1 0 0 0 1 0 0 0 1 0 0 0 1 0\n",
      " 0 0 0 0 0 1 0 0 0 0 1 0 1 1 0 1 0 0 0 0 0 0 0 1 1 0 0 1 0 1 1 1 1 1 0 0 0\n",
      " 1 0 0 0 0 0 0 0 0 0 0 0 0 0 0 0 0 1 1 0 0 0 1 0 1 0]\n"
     ]
    }
   ],
   "source": [
    "import pandas as pd\n",
    "from scipy.stats import bernoulli\n",
    "import matplotlib.pyplot as plt\n",
    "import numpy as np\n",
    "\n",
    "# sample size\n",
    "N = 100\n",
    "\n",
    "# proportion\n",
    "p = 0.3\n",
    "\n",
    "sample = bernoulli.rvs(p, size=N)\n",
    "print(sample)"
   ]
  },
  {
   "cell_type": "markdown",
   "metadata": {},
   "source": [
    "In the sample, an individual with high collestrole level is shown with 1, and an individual with normal collestrole level is shown with 0.\n",
    "\n",
    "Lets write a function that computes a confidence interval for population interval. This function would return lower and upper limit of the interval.\n",
    "\n",
    "$(1-\\alpha)$% CI is $[\\hat{p}-z_{\\alpha/2}\\sqrt{\\frac{\\hat{p}(1-\\hat{p})}{N}}, \\hat{p}+z_{\\alpha/2}\\sqrt{\\frac{\\hat{p}(1-\\hat{p})}{N}}]$\n",
    "where $\\hat{p}=\\sum_i x_i/N$"
   ]
  },
  {
   "cell_type": "code",
   "execution_count": 7,
   "metadata": {},
   "outputs": [
    {
     "name": "stdout",
     "output_type": "stream",
     "text": [
      "0.9% CI: [0.21536278426962552, 0.36463721573037444]\n",
      "0.95% CI: [0.20106427201732024, 0.3789357279826797]\n",
      "0.99% CI: [0.17311864091523116, 0.4068813590847688]\n"
     ]
    }
   ],
   "source": [
    "from scipy.stats import norm \n",
    "\n",
    "def confidence_interval(data, alpha):\n",
    "    p = np.mean(data)\n",
    "    N = np.shape(data)[0]\n",
    "    std = np.sqrt(p*(1-p)/N)\n",
    "\n",
    "    z_half_alpha = norm.ppf(1-0.5*alpha)\n",
    "    L = p - z_half_alpha*std\n",
    "    H = p + z_half_alpha*std\n",
    "\n",
    "    return L, H\n",
    "\n",
    "# test\n",
    "alpha = 0.1\n",
    "L, H = confidence_interval(sample, alpha)\n",
    "print(f\"{1-alpha}% CI: [{L}, {H}]\")\n",
    "\n",
    "alpha = 0.05\n",
    "L, H = confidence_interval(sample, alpha)\n",
    "print(f\"{1-alpha}% CI: [{L}, {H}]\")\n",
    "\n",
    "alpha = 0.01\n",
    "L, H = confidence_interval(sample, alpha)\n",
    "print(f\"{1-alpha}% CI: [{L}, {H}]\")   "
   ]
  },
  {
   "cell_type": "markdown",
   "metadata": {},
   "source": [
    "Now consider 95% CI with unknown population proportion. \n",
    "\n",
    "Lets generate 1.000 samples and compute their 95% CI intervals. Lets see how many of these intervals include real population proportion 0.3."
   ]
  },
  {
   "cell_type": "code",
   "execution_count": 8,
   "metadata": {},
   "outputs": [
    {
     "name": "stdout",
     "output_type": "stream",
     "text": [
      "Proportion of catches: 0.948\n",
      "This value should be close to 0.95\n"
     ]
    }
   ],
   "source": [
    "proportion_in_interval = list()\n",
    "\n",
    "# sample size\n",
    "N = 100\n",
    "\n",
    "# population proportion\n",
    "p = 0.3\n",
    "\n",
    "# significance level \n",
    "alpha = 0.05\n",
    "\n",
    "# number of repeats\n",
    "M = 1000\n",
    "\n",
    "for i in range(M):\n",
    "    # form  sample\n",
    "    sample = bernoulli.rvs(p, size=N) \n",
    "\n",
    "    L, H = confidence_interval(sample, alpha)\n",
    "\n",
    "    if L <= p <= H:\n",
    "        proportion_in_interval.append(1)\n",
    "    else:\n",
    "        proportion_in_interval.append(0)\n",
    "\n",
    "print(f\"Proportion of catches: {np.sum(proportion_in_interval)/M}\")\n",
    "print(f\"This value should be close to {1-alpha}\")\n"
   ]
  }
 ],
 "metadata": {
  "interpreter": {
   "hash": "518d2ba205814ce4dd070894f7d1d1f837c6d818bba15fd8ce75bb758c143c09"
  },
  "kernelspec": {
   "display_name": "Python 3.7.0 32-bit",
   "language": "python",
   "name": "python3"
  },
  "language_info": {
   "codemirror_mode": {
    "name": "ipython",
    "version": 3
   },
   "file_extension": ".py",
   "mimetype": "text/x-python",
   "name": "python",
   "nbconvert_exporter": "python",
   "pygments_lexer": "ipython3",
   "version": "3.7.0"
  },
  "orig_nbformat": 4
 },
 "nbformat": 4,
 "nbformat_minor": 2
}
