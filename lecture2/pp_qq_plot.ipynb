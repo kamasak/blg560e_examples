{
 "cells": [
  {
   "cell_type": "markdown",
   "metadata": {},
   "source": [
    "## Demo for distribution visualization using PP plot and QQ plot\n",
    "\n",
    "Lets consider the following observations.\n",
    "$X=[1.4, 0.5, 6.53, 12.34, 4.23]$\n",
    "\n",
    "Lets check if these observations come from exponential distribution with $\\lambda=5$."
   ]
  },
  {
   "cell_type": "code",
   "execution_count": 42,
   "metadata": {},
   "outputs": [],
   "source": [
    "import pandas as pd\n",
    "import numpy as np\n",
    "import matplotlib.pyplot as plt\n",
    "from scipy.stats import expon\n",
    "\n",
    "lmbda  = 5\n",
    "N = 1000\n",
    "\n",
    "observations = expon.rvs(scale=1/lmbda, size = N)"
   ]
  },
  {
   "cell_type": "markdown",
   "metadata": {},
   "source": [
    "Lets sort these observations and find emprical cdf values.\n",
    "\n",
    "For this purpose:\n",
    "- sort observations\n",
    "- cdf is computed as $(i-0.5)/N$ (0.5 is subtracted as Yates correction when a continous distribution is used to approximate a discrete distribution - We will talk about this later in the course!)\n",
    "\n",
    "| Index | Observations  | Empr. cdf |\n",
    "|-------|:-------------:|-----------|\n",
    "|   1   |           |           |\n",
    "|   2   |           |           |\n",
    "|   3   |          |           |\n",
    "|   4   |        |           |\n",
    "|   5   |        |           |"
   ]
  },
  {
   "cell_type": "code",
   "execution_count": 43,
   "metadata": {},
   "outputs": [],
   "source": [
    "observations = sorted(observations)\n",
    "\n",
    "# 0.5 is added as indices start with 0\n",
    "empr_cdf = [(i+0.5)/N for i in range(N)]\n",
    "\n",
    "# print(f\"observations: {observations} \\nemprical cdf: {empr_cdf}\")"
   ]
  },
  {
   "cell_type": "markdown",
   "metadata": {},
   "source": [
    "Now we are going to compare:\n",
    "- Emprical cdf against theoretical cdf for PP-plot\n",
    "- Observations against theoretical quartiles for QQ-plot\n",
    "\n",
    "As the observations are compared against exponential distribution, its theoretical cdf is computed as $F(x)=1-\\exp\\{-\\lambda x\\}$\n",
    "\n",
    "In this example, $\\lambda=5$ is used.\n",
    "\n",
    "| Index | Observations  | Theoretical. cdf |\n",
    "|-------|:-------------:|-----------|\n",
    "|   1   |           |           |\n",
    "|   2   |          |           |\n",
    "|   3   |         |           |\n",
    "|   4   |          |           |\n",
    "|   5   |        |           |"
   ]
  },
  {
   "cell_type": "code",
   "execution_count": 44,
   "metadata": {},
   "outputs": [],
   "source": [
    "# 0.5 is added as indices start with 0\n",
    "theo_cdf = [1-np.exp(-lmbda* i) for i in observations]\n",
    "\n",
    "# print(f\"observations: {observations} \\ntheoretical cdf: {theo_cdf}\")"
   ]
  },
  {
   "cell_type": "markdown",
   "metadata": {},
   "source": [
    "Once theoretical cdf values are computed, related quartile values are computed using inverse cdf.\n",
    "\n",
    "For exponential distribution inverse cdf is $F^{-1}(x)=\\frac{1}{\\lambda}ln(1-x)$\n",
    "\n",
    "| Index | Observations  | Emprical cdf |Theoretical. cdf |Theoretical quartile|\n",
    "|-------|:-------------:|-----------|-------------|----------|\n",
    "|   1   |           |           |||\n",
    "|   2   |           |           |||\n",
    "|   3   |          |           |||\n",
    "|   4   |          |           |||\n",
    "|   5   |         |           |||"
   ]
  },
  {
   "cell_type": "code",
   "execution_count": 45,
   "metadata": {},
   "outputs": [],
   "source": [
    "# .0001 is added to avoid taking logarithm of zero\n",
    "theo_quartile = [-1/lmbda*np.log(1-i) for i in theo_cdf]\n",
    "\n",
    "#print(f\"observations: {observations} \\ntheoretical cdf: {theo_cdf} \\\n",
    "#    \\ntheoretical quartiles: {theo_quartile}\")"
   ]
  },
  {
   "cell_type": "markdown",
   "metadata": {},
   "source": [
    "For PP-plot, plot emprical cdf against theoretical cdf"
   ]
  },
  {
   "cell_type": "code",
   "execution_count": 52,
   "metadata": {},
   "outputs": [
    {
     "data": {
      "image/png": "[encoded data removed]",
      "text/plain": [
       "<Figure size 432x288 with 1 Axes>"
      ]
     },
     "metadata": {
      "needs_background": "light"
     },
     "output_type": "display_data"
    }
   ],
   "source": [
    "plt.scatter(empr_cdf, theo_cdf)\n",
    "\n",
    "# draw line\n",
    "x = np.arange(0,1.1,0.1)\n",
    "plt.plot(x, x, color='red',linewidth=2)\n",
    "plt.xlabel('Theoretical cdf')\n",
    "plt.ylabel('Emprical cdf');"
   ]
  },
  {
   "cell_type": "markdown",
   "metadata": {},
   "source": [
    "For QQ-plot, plot observations against theoretical quartiles "
   ]
  },
  {
   "cell_type": "code",
   "execution_count": 53,
   "metadata": {},
   "outputs": [
    {
     "data": {
      "image/png": "[encoded data removed]",
      "text/plain": [
       "<Figure size 432x288 with 1 Axes>"
      ]
     },
     "metadata": {
      "needs_background": "light"
     },
     "output_type": "display_data"
    }
   ],
   "source": [
    "plt.scatter(observations, theo_quartile)\n",
    "\n",
    "# draw line\n",
    "x = np.arange(0,1.61,0.1)\n",
    "plt.plot(x, x, color='red',linewidth=2)\n",
    "plt.xlabel('Theoretical quartiles')\n",
    "plt.ylabel('Observations');"
   ]
  }
 ],
 "metadata": {
  "interpreter": {
   "hash": "518d2ba205814ce4dd070894f7d1d1f837c6d818bba15fd8ce75bb758c143c09"
  },
  "kernelspec": {
   "display_name": "Python 3.7.0 32-bit",
   "language": "python",
   "name": "python3"
  },
  "language_info": {
   "codemirror_mode": {
    "name": "ipython",
    "version": 3
   },
   "file_extension": ".py",
   "mimetype": "text/x-python",
   "name": "python",
   "nbconvert_exporter": "python",
   "pygments_lexer": "ipython3",
   "version": "3.7.0"
  },
  "orig_nbformat": 4
 },
 "nbformat": 4,
 "nbformat_minor": 2
}
